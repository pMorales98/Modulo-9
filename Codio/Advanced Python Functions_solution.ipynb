{
 "cells": [
  {
   "cell_type": "markdown",
   "metadata": {
    "nbgrader": {
     "grade": false,
     "grade_id": "cell-d1d2aeb473c7aef5",
     "locked": true,
     "schema_version": 1,
     "solution": false
    }
   },
   "source": [
    "# Codio Coding Activity 9.3: Advanced Python *Functions*\n",
    "\n",
    "### Learning Outcome Addressed\n",
    "\n",
    "- 5. Write code using advanced Python *functions*.\n",
    "\n",
    "\n",
    "## Index:\n",
    "\n",
    "- [Question 1](#Question-1)\n",
    "- [Question 2](#Question-2)\n",
    "- [Question 3](#Question-3)\n",
    "- [Question 4](#Question-4)\n",
    "- [Question 5](#Question-5)\n",
    "- [Question 6](#Question-6)\n",
    "- [Question 7](#Question-7)\n",
    "- [Question 8](#Question-8)\n",
    "- [Question 9](#Question-9)"
   ]
  },
  {
   "cell_type": "markdown",
   "metadata": {
    "nbgrader": {
     "grade": false,
     "grade_id": "cell-b3351f0e45edafc6",
     "locked": true,
     "schema_version": 1,
     "solution": false
    }
   },
   "source": [
    "## Advanced Python Functions\n",
    "\n",
    "## Question 1\n",
    "\n",
    "*2 points*\n",
    "\n",
    "Define a Python *function, `mult`*, that takes a variable number of arguments.\n",
    "\n",
    "Your *function* should return the result of the multiplication of all the arguments passed to it.\n",
    "\n",
    "Test your *function* with the inputs `2`, `6`, `6`, and `8`. Assign the result to *`ans1a`*.\n",
    "\n",
    "Next, test your *function* with the inputs `5`, `10.0`, `2`, `3`, and `1`. Assign the result to *`ans1b`*."
   ]
  },
  {
   "cell_type": "code",
   "execution_count": 1,
   "metadata": {
    "nbgrader": {
     "grade": false,
     "grade_id": "cell-be4d0c715ede0afc",
     "locked": false,
     "schema_version": 1,
     "solution": true
    }
   },
   "outputs": [],
   "source": [
    "### GRADED\n",
    "\n",
    "### YOUR SOLUTION HERE\n",
    "ans1a = None\n",
    "ans1b = None\n",
    "\n",
    "def mult():\n",
    "    pass\n",
    "### BEGIN SOLUTION\n",
    "def mult(*args):\n",
    "    result = 1\n",
    "    for i in args:\n",
    "        result = i*result\n",
    "    return result\n",
    "\n",
    "ans1a = mult(2,6,6,8)\n",
    "ans1b = mult(5,10.0,2,3,1)\n",
    "### END SOLUTION"
   ]
  },
  {
   "cell_type": "markdown",
   "metadata": {
    "nbgrader": {
     "grade": false,
     "grade_id": "cell-b16c7873f97d5ec7",
     "locked": true,
     "schema_version": 1,
     "solution": false
    }
   },
   "source": [
    "## Question 2\n",
    "\n",
    "*2 points*\n",
    "\n",
    "Define a Python *function, `subtract_from_ten`*, that takes, as input, a fixed argument *`a = 10`* and a variable number of arguments *`args`*.\n",
    "\n",
    "Your *function* should return the result of subtraction of all the arguments in *`args`* from *`a`*.\n",
    "\n",
    "Test your *function* with the inputs `1`, `2`, and `3`. Assign the result to *`ans2a`*.\n",
    "\n",
    "Next, test your *function* with the inputs `5`, `10`, `1`, and `2`. Assign the result to *`ans2b`*."
   ]
  },
  {
   "cell_type": "code",
   "execution_count": 2,
   "metadata": {
    "nbgrader": {
     "grade": false,
     "grade_id": "cell-9fbeb5b0838bbfd6",
     "locked": false,
     "schema_version": 1,
     "solution": true
    }
   },
   "outputs": [],
   "source": [
    "### GRADED\n",
    "\n",
    "### YOUR SOLUTION HERE\n",
    "ans2a = None\n",
    "ans2b = None\n",
    "\n",
    "def subtract_from_ten():\n",
    "    pass\n",
    "### BEGIN SOLUTION\n",
    "def subtract_from_ten(a =10, *args):\n",
    "    result = 10\n",
    "    for i in args:\n",
    "        result = result -i\n",
    "    return result\n",
    "\n",
    "ans2a = subtract_from_ten(10, 1,2,3)\n",
    "ans2b = subtract_from_ten(10, 5,10,1,2)\n",
    "### END SOLUTION"
   ]
  },
  {
   "cell_type": "markdown",
   "metadata": {
    "nbgrader": {
     "grade": false,
     "grade_id": "cell-be79daa6faffce31",
     "locked": true,
     "schema_version": 1,
     "solution": false
    }
   },
   "source": [
    "## Question 3\n",
    "\n",
    "*4 points*\n",
    "\n",
    "Define a Python *function, `subtract_from_highest`*, that takes, as input, a variable number of arguments *`args`*.\n",
    "\n",
    "Your *function* should return the result of subtraction of all the arguments in *`args`* from the highest number passed to the *function*.\n",
    "\n",
    "For example, the result of \n",
    "```Python\n",
    "subtract_from_highest(20,10,4)\n",
    "```\n",
    "should be 6.\n",
    "\n",
    "Test your *function* with the inputs `1`, `2`, and `3`. Assign the result to *`ans3a`*.\n",
    "\n",
    "Next, test your *function* with the inputs `15`, `25`, `1`, and `3`. Assign the result to *`ans3b`*."
   ]
  },
  {
   "cell_type": "code",
   "execution_count": 3,
   "metadata": {
    "nbgrader": {
     "grade": false,
     "grade_id": "cell-a35616fd5d66cca6",
     "locked": false,
     "schema_version": 1,
     "solution": true
    }
   },
   "outputs": [],
   "source": [
    "### GRADED\n",
    "\n",
    "### YOUR SOLUTION HERE\n",
    "ans3a = None\n",
    "ans3b = None\n",
    "\n",
    "def subtract_from_highest():\n",
    "    pass\n",
    "### BEGIN SOLUTION\n",
    "def subtract_from_highest( *args):\n",
    "    result = max(args)\n",
    "    for i in args:\n",
    "        if i != max(args):\n",
    "            result = result-i\n",
    "    return result\n",
    "\n",
    "ans3a = subtract_from_highest( 1,2,3)\n",
    "ans3b = subtract_from_highest(15,25,1,3)\n",
    "### END SOLUTION"
   ]
  },
  {
   "cell_type": "markdown",
   "metadata": {
    "nbgrader": {
     "grade": false,
     "grade_id": "cell-46258b77ddd91890",
     "locked": true,
     "schema_version": 1,
     "solution": false
    }
   },
   "source": [
    "## Question 4\n",
    "\n",
    "*2 points*\n",
    "\n",
    "Define a Python *function, `mult_keyword`*, that takes a variable number of keyword arguments.\n",
    "\n",
    "Your *function* should return the result of the multiplication of all the arguments passed to it.\n",
    "\n",
    "Test your *function* with the inputs `(a =2, b = 3, c = 4)`. Assign the result to *`ans4a`*.\n",
    "\n",
    "Next, test your *function* with the inputs`(a = 1, b = 5, c = 2, d = 3)` Assign the result to *`ans4b`*."
   ]
  },
  {
   "cell_type": "code",
   "execution_count": 4,
   "metadata": {
    "nbgrader": {
     "grade": false,
     "grade_id": "cell-952d4a046462f626",
     "locked": false,
     "schema_version": 1,
     "solution": true
    }
   },
   "outputs": [],
   "source": [
    "### GRADED\n",
    "\n",
    "### YOUR SOLUTION HERE\n",
    "ans4a = None\n",
    "ans4b = None\n",
    "\n",
    "def mult_keyword():\n",
    "    pass\n",
    "### BEGIN SOLUTION\n",
    "def mult_keyword( **kwargs):\n",
    "    result = 1\n",
    "    for i in kwargs:\n",
    "        result = result*kwargs[i]\n",
    "    return result\n",
    "\n",
    "ans4a = mult_keyword(a =2, b = 3, c = 4)\n",
    "ans4b = mult_keyword(a = 1, b = 5, c = 2, d = 3)\n",
    "### END SOLUTION"
   ]
  },
  {
   "cell_type": "markdown",
   "metadata": {
    "nbgrader": {
     "grade": false,
     "grade_id": "cell-500cc92b75c0cb21",
     "locked": true,
     "schema_version": 1,
     "solution": false
    }
   },
   "source": [
    "## Question 5\n",
    "\n",
    "*2 points*\n",
    "\n",
    "Define a Python *function, `concatenate`*, that takes a variable number of *strings* and concatenates them.\n",
    "\n",
    "Your *function* should return the result of the concatenation of all the *strings* passed to it.  Example: if you pass: \"Having\", \"Fun\", \"With\", \"Python\", \"!\" to your *function*, it should return: \"HavingFunWithPython!\"\n",
    "\n",
    "Test your *function* with the inputs `\"We\", \"Are\", \"Practicing\", \"Passing\", \"Unnamed\", \"Arguments!\"`. Assign the result to *`ans5a`*.\n",
    "\n",
    "Next, test your *function* with the inputs`\"We\", \"Are\", \"Using\", \"The\", \"Unpacking\", \"Operator\"`. Assign the result to *`ans5b`*."
   ]
  },
  {
   "cell_type": "code",
   "execution_count": 5,
   "metadata": {
    "nbgrader": {
     "grade": false,
     "grade_id": "cell-f2c9cedc5267fea3",
     "locked": false,
     "schema_version": 1,
     "solution": true
    }
   },
   "outputs": [],
   "source": [
    "### GRADED\n",
    "\n",
    "### YOUR SOLUTION HERE\n",
    "ans5a = None\n",
    "ans5b = None\n",
    "\n",
    "def concatenate():\n",
    "    pass\n",
    "### BEGIN SOLUTION\n",
    "def concatenate(*args):\n",
    "    result = ''\n",
    "    for word in args:\n",
    "        result = result + word\n",
    "    return result\n",
    "\n",
    "ans5a = concatenate(\"We\", \"Are\", \"Practicing\", \"Passing\", \"Unnamed\", \"Arguments!\")\n",
    "ans5b = concatenate(\"We\", \"Are\", \"Using\", \"The\", \"Unpacking\", \"Operator\")\n",
    "### END SOLUTION"
   ]
  },
  {
   "cell_type": "markdown",
   "metadata": {
    "nbgrader": {
     "grade": false,
     "grade_id": "cell-a6f80c6e03967a1f",
     "locked": true,
     "schema_version": 1,
     "solution": false
    }
   },
   "source": [
    "## Question 6\n",
    "\n",
    "*2 points*\n",
    "\n",
    "Define a Python *function, `list_keys`*, that takes a variable number of named variables (a *dictionary*) and produces a comma delimited list of all the *keys* in the *dictionary*.\n",
    "\n",
    "Your *function* should return a comma separated list of all the *keys* in the *dictionary*.  Example: if you pass: `key1 =2, key2 = 3, key3 = 4, key4 = 5` then your *function* should return `'key1, key2, key3, key4'`\n",
    "\n",
    "\n",
    "Test your *function* with the inputs `(a =2, b = 3, c = 4)`. Assign the result to *`ans6a`*.\n",
    "\n",
    "Next, test your *function* with the inputs`(a = 1, b = 5, c = 2, d = 3)` Assign the result to *`ans6b`*."
   ]
  },
  {
   "cell_type": "code",
   "execution_count": 6,
   "metadata": {
    "nbgrader": {
     "grade": false,
     "grade_id": "cell-cb0245fd8c977739",
     "locked": false,
     "schema_version": 1,
     "solution": true
    }
   },
   "outputs": [],
   "source": [
    "### GRADED\n",
    "\n",
    "### YOUR SOLUTION HERE\n",
    "ans6a = None\n",
    "ans6b = None\n",
    "\n",
    "def list_keys():\n",
    "    pass\n",
    "### BEGIN SOLUTION\n",
    "def list_keys( **kwargs):\n",
    "    result = ''\n",
    "    for key in kwargs.keys():\n",
    "        if len(result) > 0:\n",
    "            result = result + ', '\n",
    "        result = result + key\n",
    "    return result\n",
    "\n",
    "ans6a = list_keys(a =2, b = 3, c = 4)\n",
    "ans6b = list_keys(a = 1, b = 5, c = 2, d = 3)\n",
    "### END SOLUTION"
   ]
  },
  {
   "cell_type": "markdown",
   "metadata": {
    "nbgrader": {
     "grade": false,
     "grade_id": "cell-0d77b9bb41ae05c3",
     "locked": true,
     "schema_version": 1,
     "solution": false
    }
   },
   "source": [
    "## Question 7\n",
    "\n",
    "*2 points*\n",
    "\n",
    "Define a Python *function, `hello_user`*, that takes a variable number of named variables (a *dictionary*) containing contact information about a user, such as First Name, Last Name, and Email and returns `'Hello <First_Name>!'` where `<First_Name>` is the contact's First Name.\n",
    "\n",
    "Example: With the input `First_Name=Bill, Last_Name=Gates, Email=Bill.Gates@xx.com` your *function* should return `'Hello Bill!'`\n",
    "\n",
    "Test your *function* with the inputs `(First_Name=\"Elon\", Last_Name=\"Musk\", Email=\"Elon.Musk@yy.com\")`. Assign the result to *`ans7a`*.\n",
    "\n",
    "Next, test your *function* with the inputs`(First_Name=\"Jeff\", Last_Name=\"Bezos\", Email=\"Jeff.Bezos@zz.com\")`. Assign the result to *`ans7b`*."
   ]
  },
  {
   "cell_type": "code",
   "execution_count": 7,
   "metadata": {
    "nbgrader": {
     "grade": false,
     "grade_id": "cell-1503035b525cdfbc",
     "locked": false,
     "schema_version": 1,
     "solution": true
    }
   },
   "outputs": [],
   "source": [
    "### GRADED\n",
    "\n",
    "### YOUR SOLUTION HERE\n",
    "ans7a = None\n",
    "ans7b = None\n",
    "\n",
    "def hello_user():\n",
    "    pass\n",
    "### BEGIN SOLUTION\n",
    "def hello_user( **kwargs):\n",
    "    result = 'Hello '\n",
    "    if \"First_Name\" in kwargs.keys():\n",
    "        result = result + kwargs[\"First_Name\"] + \"!\"\n",
    "    return result\n",
    "\n",
    "ans7a = hello_user(First_Name=\"Elon\", Last_Name=\"Musk\", Email=\"Elon.Musk@yy.com\")\n",
    "ans7b = hello_user(First_Name=\"Jeff\", Last_Name=\"Bezos\", Email=\"Jeff.Bezos@zz.com\")\n",
    "### END SOLUTION\n",
    "\n"
   ]
  },
  {
   "cell_type": "markdown",
   "metadata": {
    "nbgrader": {
     "grade": false,
     "grade_id": "cell-1cf51e4d36172d37",
     "locked": true,
     "schema_version": 1,
     "solution": false
    }
   },
   "source": [
    "## Question 8\n",
    "\n",
    "*2 points*\n",
    "\n",
    "Define a Python *function, `display_user_total_assets`*, that takes three parameters:  First Name, Last Name and a *dictionary* containing a user's assets.\n",
    "\n",
    "Example: If you were to pass `\"John\", \"Smith\", Car=30000, House=450000, Savings=1000000` then the *function* would return: `'John Smith: 1480000'`,  where `1480000` is the sum of all assets in the *dictionary*.\n",
    "\n",
    "Test your *function* with the inputs ` \"John\", \"Smith\", Car=30000, House=450000, Savings=1000000`. Assign the result to *`ans8a`*.\n",
    "\n",
    "Next, test your *function* with the inputs`\"Joe\", \"Clark\", Car=15000, House=250000`. Assign the result to *`ans8b`*."
   ]
  },
  {
   "cell_type": "code",
   "execution_count": 8,
   "metadata": {
    "nbgrader": {
     "grade": false,
     "grade_id": "cell-9efa6c3e70268730",
     "locked": false,
     "schema_version": 1,
     "solution": true
    }
   },
   "outputs": [],
   "source": [
    "### GRADED\n",
    "\n",
    "### YOUR SOLUTION HERE\n",
    "ans8a = None\n",
    "ans8b = None\n",
    "\n",
    "def display_user_total_assets():\n",
    "    pass\n",
    "### BEGIN SOLUTION\n",
    "def display_user_total_assets(x,y, **kwargs):\n",
    "    result = x + ' ' + y + ': '\n",
    "    sum_assets = 0\n",
    "    for x in kwargs.values():\n",
    "        sum_assets = sum_assets + x\n",
    "    result = result + str(sum_assets)\n",
    "    return result\n",
    "\n",
    "ans8a = display_user_total_assets(\"John\", \"Smith\", Car=30000, House=450000, Savings=1000000)\n",
    "ans8b = display_user_total_assets(\"Joe\", \"Clark\", Car=15000, House=250000)\n",
    "### END SOLUTION"
   ]
  },
  {
   "cell_type": "markdown",
   "metadata": {
    "nbgrader": {
     "grade": false,
     "grade_id": "cell-b835ffed87860276",
     "locked": true,
     "schema_version": 1,
     "solution": false
    }
   },
   "source": [
    "## Question 9\n",
    "\n",
    "*2 points*\n",
    "\n",
    "Define a Python *function, `display_user_total_assets2`*, that takes two parameters:  a variable *list* containing a user's name and a *dictionary* containing a user's assets. The *function* should return a *string* containing the person's name concatenated followed by a \":\" and the sum of all assets.\n",
    "\n",
    "Example: If you were to pass `\"John\", \"S.\" \"Smith\",\"III\", Car=30000, House=450000, Savings=1000000`, then the *function* would return: `John S. Smith III: 1480000`,  where `1480000` is the sum of all assets in the *dictionary*.\n",
    "\n",
    "Test your *function* with the inputs ` \"John\", \"S.\", \"Smith\", \"III\", Car=30000, House=450000, Savings=1000000`. Assign the result to *`ans9a`*.\n",
    "\n",
    "Next, test your *function* with the inputs`\"Joe\", \"Clark\", Car=15000, House=250000` Assign the result to *`ans9b`*."
   ]
  },
  {
   "cell_type": "code",
   "execution_count": 10,
   "metadata": {
    "nbgrader": {
     "grade": false,
     "grade_id": "cell-4043d9ed788c847d",
     "locked": false,
     "schema_version": 1,
     "solution": true
    }
   },
   "outputs": [],
   "source": [
    "### GRADED\n",
    "\n",
    "### YOUR SOLUTION HERE\n",
    "ans9a = None\n",
    "ans9b = None\n",
    "\n",
    "def display_user_total_assets2():\n",
    "    pass\n",
    "### BEGIN SOLUTION\n",
    "def display_user_total_assets2(*args, **kwargs):\n",
    "    result = ''\n",
    "    for i in args:\n",
    "        result = result + ' ' + i\n",
    "    result = result + ': '\n",
    "    sum_assets = 0\n",
    "    for x in kwargs.values():\n",
    "        sum_assets = sum_assets + x\n",
    "    result = result + str(sum_assets)\n",
    "    return result\n",
    "\n",
    "ans9a = display_user_total_assets2(\"John\", \"S.\", \"Smith\", \"III\", Car=30000, House=450000, Savings=1000000)\n",
    "ans9b = display_user_total_assets2(\"Joe\", \"Clark\", Car=15000, House=250000)\n",
    "### END SOLUTION"
   ]
  },
  {
   "cell_type": "code",
   "execution_count": null,
   "metadata": {},
   "outputs": [],
   "source": []
  },
  {
   "cell_type": "code",
   "execution_count": null,
   "metadata": {},
   "outputs": [],
   "source": []
  }
 ],
 "metadata": {
  "celltoolbar": "Create Assignment",
  "kernelspec": {
   "display_name": "Python 3 (ipykernel)",
   "language": "python",
   "name": "python3"
  },
  "language_info": {
   "codemirror_mode": {
    "name": "ipython",
    "version": 3
   },
   "file_extension": ".py",
   "mimetype": "text/x-python",
   "name": "python",
   "nbconvert_exporter": "python",
   "pygments_lexer": "ipython3",
   "version": "3.9.9"
  }
 },
 "nbformat": 4,
 "nbformat_minor": 4
}
