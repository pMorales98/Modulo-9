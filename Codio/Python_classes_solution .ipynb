{
 "cells": [
  {
   "cell_type": "markdown",
   "metadata": {
    "nbgrader": {
     "grade": false,
     "grade_id": "cell-9eded2c8e8c76159",
     "locked": true,
     "schema_version": 1,
     "solution": false
    }
   },
   "source": [
    "# Codio Coding Activity 9.2: Python *Classes*\n",
    "\n",
    "### Learning Outcome Addressed\n",
    "\n",
    "- 4. Implement Python *classes*.\n",
    "\n",
    "\n",
    "## Index:\n",
    "\n",
    "- [Question 1](#Question-1)\n",
    "- [Question 2](#Question-2)\n",
    "- [Question 3](#Question-3)\n",
    "- [Question 4](#Question-4)\n",
    "- [Question 5](#Question-5)\n",
    "- [Question 6](#Question-6)\n",
    "- [Question 7](#Question-7)\n",
    "- [Question 8](#Question-8)\n",
    "- [Question 9](#Question-9)\n",
    "- [Question 10](#Question-10)"
   ]
  },
  {
   "cell_type": "markdown",
   "metadata": {
    "nbgrader": {
     "grade": false,
     "grade_id": "cell-c1dcb9b0083d2039",
     "locked": true,
     "schema_version": 1,
     "solution": false
    }
   },
   "source": [
    "## Python Classes\n",
    "\n",
    "## Question 1\n",
    "\n",
    "*2 points*\n",
    "\n",
    "Write a Python *class*, *`House`*, with no *attributes* assigned to it.\n",
    "\n",
    "Assign the type of *`House`* to *`ans1a`*. Assign the *`__module__`* *attribute* of the *`House`* *class* to *`ans1b`*.\n",
    "\n",
    "**HINT:** Because *`House`* does not have any *attributes*, you can end its the definition with the keyword *`pass.`*"
   ]
  },
  {
   "cell_type": "code",
   "execution_count": 1,
   "metadata": {
    "nbgrader": {
     "grade": false,
     "grade_id": "cell-ba251d6cfca23d49",
     "locked": false,
     "schema_version": 1,
     "solution": true
    }
   },
   "outputs": [],
   "source": [
    "### GRADED\n",
    "\n",
    "### YOUR SOLUTION HERE\n",
    "ans1a = None\n",
    "ans1b = None\n",
    "\n",
    "### BEGIN SOLUTION\n",
    "class House:\n",
    "    pass  \n",
    "\n",
    "ans1a = type(House)\n",
    "ans1b = House.__module__\n",
    "### END SOLUTION"
   ]
  },
  {
   "cell_type": "markdown",
   "metadata": {
    "nbgrader": {
     "grade": false,
     "grade_id": "cell-35e44c6eb79cdd19",
     "locked": true,
     "schema_version": 1,
     "solution": false
    }
   },
   "source": [
    "## Question 2\n",
    "\n",
    "*2 points*\n",
    "\n",
    "\n",
    "Modify the Python *class*, *`House`*, so that it has three *attributes*, *`square_footage`*, *`number_of_bedrooms`*, and *`garage`*, with values `1450`, `3`, and `True`, respectively.\n",
    "\n",
    "Assign the member *`square_footage`* of the *class `House`* to *`ans2a`*."
   ]
  },
  {
   "cell_type": "code",
   "execution_count": null,
   "metadata": {
    "nbgrader": {
     "grade": false,
     "grade_id": "cell-ea868952f36fe45e",
     "locked": false,
     "schema_version": 1,
     "solution": true
    }
   },
   "outputs": [],
   "source": [
    "### GRADED\n",
    "\n",
    "### YOUR SOLUTION HERE\n",
    "ans2a = None\n",
    "\n",
    "\n",
    "### BEGIN SOLUTION\n",
    "class House:\n",
    "    square_footage = 1450\n",
    "    number_of_bedrooms = 3\n",
    "    garage = True\n",
    "    \n",
    "ans2a = House.square_footage\n",
    "### END SOLUTION"
   ]
  },
  {
   "cell_type": "markdown",
   "metadata": {
    "nbgrader": {
     "grade": false,
     "grade_id": "cell-ff98d6e5440dbb70",
     "locked": true,
     "schema_version": 1,
     "solution": false
    }
   },
   "source": [
    "## Question 3\n",
    "\n",
    "*3 points*\n",
    "\n",
    "The Python *function [`setattr`](https://docs.python.org/3/library/functions.html#setattr)* can be used to modify the *attributes* of a *class*. Its basic syntax reads as follows:\n",
    "\n",
    "```Python\n",
    "setattr = (class_name, attribute_name, updated_value)\n",
    "\n",
    "```\n",
    "\n",
    "Use the *function `setattr`* to modify the Python *class*, *`House`*, so that  *`square_footage`* and *`number_of_bedrooms`* are equal to `1600` and `2`, respectively. Assign these operations to *`ans3a`* and *`ans3b`*, respectively."
   ]
  },
  {
   "cell_type": "code",
   "execution_count": 1,
   "metadata": {
    "nbgrader": {
     "grade": false,
     "grade_id": "cell-d79a85864c59f620",
     "locked": false,
     "schema_version": 1,
     "solution": true
    }
   },
   "outputs": [
    {
     "ename": "NameError",
     "evalue": "name 'House' is not defined",
     "output_type": "error",
     "traceback": [
      "\u001b[1;31m---------------------------------------------------------------------------\u001b[0m",
      "\u001b[1;31mNameError\u001b[0m                                 Traceback (most recent call last)",
      "Cell \u001b[1;32mIn[1], line 8\u001b[0m\n\u001b[0;32m      5\u001b[0m ans3b \u001b[38;5;241m=\u001b[39m \u001b[38;5;28;01mNone\u001b[39;00m\n\u001b[0;32m      7\u001b[0m \u001b[38;5;66;03m### BEGIN SOLUTION\u001b[39;00m\n\u001b[1;32m----> 8\u001b[0m ans3a \u001b[38;5;241m=\u001b[39m \u001b[38;5;28msetattr\u001b[39m(\u001b[43mHouse\u001b[49m, \u001b[38;5;124m'\u001b[39m\u001b[38;5;124msquare_footage\u001b[39m\u001b[38;5;124m'\u001b[39m, \u001b[38;5;241m1600\u001b[39m)\n\u001b[0;32m      9\u001b[0m ans3b \u001b[38;5;241m=\u001b[39m \u001b[38;5;28msetattr\u001b[39m(House, \u001b[38;5;124m'\u001b[39m\u001b[38;5;124mnumber_of_bedrooms\u001b[39m\u001b[38;5;124m'\u001b[39m, \u001b[38;5;241m2\u001b[39m)\n\u001b[0;32m     10\u001b[0m \u001b[38;5;66;03m### END SOLUTION\u001b[39;00m\n",
      "\u001b[1;31mNameError\u001b[0m: name 'House' is not defined"
     ]
    }
   ],
   "source": [
    "### GRADED\n",
    "\n",
    "### YOUR SOLUTION HERE\n",
    "ans3a = None\n",
    "ans3b = None\n",
    "\n",
    "### BEGIN SOLUTION\n",
    "ans3a = setattr(House, 'square_footage', 1600)\n",
    "ans3b = setattr(House, 'number_of_bedrooms', 2)\n",
    "### END SOLUTION\n",
    "\n",
    "print(ans3a)"
   ]
  },
  {
   "cell_type": "markdown",
   "metadata": {
    "nbgrader": {
     "grade": false,
     "grade_id": "cell-1f712ed7f62883f2",
     "locked": true,
     "schema_version": 1,
     "solution": false
    }
   },
   "source": [
    "## Question 4\n",
    "\n",
    "*2 points*\n",
    "\n",
    "The Python *function [`setattr`](https://docs.python.org/3/library/functions.html#setattr)* can be also used to add a new *attribute* to a *class*.\n",
    "\n",
    "Use the *function `setattr`* to add the *attribute* `private_listing` to the *`House` class*. Assign the value `False` to private listing.\n",
    "\n",
    "Check that your code works by assigning the value of the *attribute* `private_listing` to *`ans4.`*\n"
   ]
  },
  {
   "cell_type": "code",
   "execution_count": 4,
   "metadata": {
    "nbgrader": {
     "grade": false,
     "grade_id": "cell-fa01d0bfeed448b4",
     "locked": false,
     "schema_version": 1,
     "solution": true
    }
   },
   "outputs": [],
   "source": [
    "### GRADED\n",
    "\n",
    "### YOUR SOLUTION HERE\n",
    "ans4 = None\n",
    "\n",
    "### BEGIN SOLUTION\n",
    "setattr(House, 'private_listing', False)\n",
    "ans4 = House.private_listing\n",
    "### END SOLUTION"
   ]
  },
  {
   "cell_type": "markdown",
   "metadata": {
    "nbgrader": {
     "grade": false,
     "grade_id": "cell-e821a697c65f4518",
     "locked": true,
     "schema_version": 1,
     "solution": false
    }
   },
   "source": [
    "## Question 5\n",
    "\n",
    "*3 points*\n",
    "\n",
    "Use a constructor to re-define the Python *class*, *`House`*. This *class* will have *attributes* *`square_footage`*, *`number_of_bedrooms`*, *`garage`*, and *`private_listing`*.\n",
    "\n",
    "Construct a house, *`ans5`*, that is `930` square feet, has `1` bedroom, has no garage, and is listed as a private listing. Use *booleans* to assign the values to *`garage`* and *`private_listing.`*"
   ]
  },
  {
   "cell_type": "code",
   "execution_count": 5,
   "metadata": {
    "nbgrader": {
     "grade": false,
     "grade_id": "cell-966cf9980800c4b6",
     "locked": false,
     "schema_version": 1,
     "solution": true
    }
   },
   "outputs": [],
   "source": [
    "### GRADED\n",
    "\n",
    "### YOUR SOLUTION HERE\n",
    "ans5 = None\n",
    "\n",
    "\n",
    "### BEGIN SOLUTION\n",
    "class House:\n",
    "    def __init__(self, square_footage, number_of_bedrooms, garage, private_listing):\n",
    "        self.square_footage = square_footage\n",
    "        self.number_of_bedrooms = number_of_bedrooms\n",
    "        self.garage = garage\n",
    "        self.private_listing = private_listing\n",
    "    \n",
    "ans5 = House(930, 1, False, True)\n",
    "### END SOLUTION"
   ]
  },
  {
   "cell_type": "markdown",
   "metadata": {
    "nbgrader": {
     "grade": false,
     "grade_id": "cell-aa825d9d703cc03d",
     "locked": true,
     "schema_version": 1,
     "solution": false
    }
   },
   "source": [
    "## Question 6\n",
    "\n",
    "*4 points*\n",
    "\n",
    "Add a *function, `property_taxes`*, to the *`House` class* defined above that takes the value stored in *`square_footage`* and multiplies it by `1.67`. This *function* should return a value called *`total_tax`*.\n",
    "\n",
    "Compute the property taxes for *`ans5`* defined in the previous questions and assign the result to *`ans6`*."
   ]
  },
  {
   "cell_type": "code",
   "execution_count": 6,
   "metadata": {
    "nbgrader": {
     "grade": false,
     "grade_id": "cell-73fa2b56664042c7",
     "locked": false,
     "schema_version": 1,
     "solution": true
    }
   },
   "outputs": [],
   "source": [
    "### GRADED\n",
    "\n",
    "### YOUR SOLUTION HERE\n",
    "ans6 = None\n",
    "\n",
    "\n",
    "### BEGIN SOLUTION\n",
    "class House:\n",
    "    def __init__(self, square_footage, number_of_bedrooms, garage, private_listing):\n",
    "        self.square_footage = square_footage\n",
    "        self.number_of_bedrooms = number_of_bedrooms\n",
    "        self.garage = garage\n",
    "        self.private_listing = private_listing\n",
    "        \n",
    "    def property_taxes(self):\n",
    "            total_tax = self.square_footage*1.67\n",
    "            return total_tax\n",
    "    \n",
    "ans5 = House(930, 1, False, True)\n",
    "ans6 = ans5.property_taxes()\n",
    "### END SOLUTION"
   ]
  },
  {
   "cell_type": "markdown",
   "metadata": {
    "nbgrader": {
     "grade": false,
     "grade_id": "cell-a19dd627dcc0d302",
     "locked": true,
     "schema_version": 1,
     "solution": false
    }
   },
   "source": [
    "## Question 7\n",
    "\n",
    "*4 points*\n",
    "\n",
    "Add another *function, `non_bedrooms_area`*, to the *`House` class* defined above that takes the value stored in *`square_footage`*, subtracts the value stored in *`number_of_bedrooms`*, and multiplies the result by `142`. This *function* should return a value called *`non_bedrooms_total_area`*.\n",
    "\n",
    "Compute the property taxes for *`ans5`* defined in the previous question and assign the result to *`ans7`*."
   ]
  },
  {
   "cell_type": "code",
   "execution_count": 7,
   "metadata": {
    "nbgrader": {
     "grade": false,
     "grade_id": "cell-10f391179af46d1a",
     "locked": false,
     "schema_version": 1,
     "solution": true
    }
   },
   "outputs": [],
   "source": [
    "### GRADED\n",
    "\n",
    "### YOUR SOLUTION HERE\n",
    "ans7 = None\n",
    "\n",
    "\n",
    "### BEGIN SOLUTION\n",
    "class House:\n",
    "    def __init__(self, square_footage, number_of_bedrooms, garage, private_listing):\n",
    "        self.square_footage = square_footage\n",
    "        self.number_of_bedrooms = number_of_bedrooms\n",
    "        self.garage = garage\n",
    "        self.private_listing = private_listing\n",
    "        \n",
    "    def property_taxes(self):\n",
    "            total_tax = self.square_footage*1.67\n",
    "            return total_tax\n",
    "    \n",
    "    def non_bedrooms_area(self):\n",
    "            non_bedrooms_total_area = self.square_footage - (self.number_of_bedrooms*142)\n",
    "            return non_bedrooms_total_area\n",
    "    \n",
    "ans5 = House(930, 1, False, True)\n",
    "ans7 = ans5.non_bedrooms_area()\n",
    "### END SOLUTION"
   ]
  },
  {
   "cell_type": "code",
   "execution_count": null,
   "metadata": {},
   "outputs": [],
   "source": []
  },
  {
   "cell_type": "code",
   "execution_count": null,
   "metadata": {},
   "outputs": [],
   "source": []
  }
 ],
 "metadata": {
  "celltoolbar": "Create Assignment",
  "kernelspec": {
   "display_name": "Python 3 (ipykernel)",
   "language": "python",
   "name": "python3"
  },
  "language_info": {
   "codemirror_mode": {
    "name": "ipython",
    "version": 3
   },
   "file_extension": ".py",
   "mimetype": "text/x-python",
   "name": "python",
   "nbconvert_exporter": "python",
   "pygments_lexer": "ipython3",
   "version": "3.12.4"
  }
 },
 "nbformat": 4,
 "nbformat_minor": 4
}
