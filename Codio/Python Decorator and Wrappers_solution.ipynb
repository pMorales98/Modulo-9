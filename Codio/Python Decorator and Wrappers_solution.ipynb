{
 "cells": [
  {
   "cell_type": "markdown",
   "metadata": {
    "nbgrader": {
     "grade": false,
     "grade_id": "cell-f09389d23a979b92",
     "locked": true,
     "schema_version": 1,
     "solution": false
    }
   },
   "source": [
    "# Codio Coding Activity 9.4: Python *Decorators* and *Wrappers*\n",
    "\n",
    "### Learning Outcome Addressed\n",
    "\n",
    "- 5. Write code using *decorators* and *wrappers*.\n",
    "\n",
    "\n",
    "## Index:\n",
    "\n",
    "- [Question 1](#Question-1)\n",
    "- [Question 2](#Question-2)\n",
    "- [Question 3](#Question-3)\n",
    "- [Question 4](#Question-4)\n",
    "- [Question 5](#Question-5)\n",
    "- [Question 6](#Question-6)\n",
    "- [Question 7](#Question-7)\n",
    "- [Question 8](#Question-8)\n",
    "- [Question 9](#Question-9)\n",
    "- [Question 10](#Question-10)"
   ]
  },
  {
   "cell_type": "markdown",
   "metadata": {
    "nbgrader": {
     "grade": false,
     "grade_id": "cell-7a5168858ff04d0b",
     "locked": true,
     "schema_version": 1,
     "solution": false
    }
   },
   "source": [
    "## Python *Decorators* and *Wrappers*\n",
    "\n",
    "## Question 1\n",
    "\n",
    "*2 points*\n",
    "\n",
    "In Python, you can assign a *function* to a variable and later execute the variable as a *function*. \n",
    "\n",
    "Create a *function* called  `assignFunctionToVariableExample` and make it return a single *string* `FunctionToVariable`.\n",
    "\n",
    "Assign your *function* to *`ans1`*."
   ]
  },
  {
   "cell_type": "code",
   "execution_count": 1,
   "metadata": {
    "nbgrader": {
     "grade": false,
     "grade_id": "cell-30f60695412b1234",
     "locked": false,
     "schema_version": 1,
     "solution": true
    }
   },
   "outputs": [],
   "source": [
    "### GRADED\n",
    "\n",
    "### YOUR SOLUTION HERE\n",
    "def assignFunctionToVariableExample():\n",
    "    pass\n",
    "\n",
    "ans1 = None\n",
    "\n",
    "### BEGIN SOLUTION\n",
    "def assignFunctionToVariableExample():\n",
    "    return 'FunctionToVariable'\n",
    "\n",
    "ans1 = assignFunctionToVariableExample\n",
    "### END SOLUTION"
   ]
  },
  {
   "cell_type": "markdown",
   "metadata": {
    "nbgrader": {
     "grade": false,
     "grade_id": "cell-9455af018176f893",
     "locked": true,
     "schema_version": 1,
     "solution": false
    }
   },
   "source": [
    "## Question 2\n",
    "\n",
    "*2 points*\n",
    "\n",
    "In Python, you can pass a *function* as a parameter to another *function*. Create a *function* called  `do_math` that takes two parameters - a number and a *function*.\n",
    "\n",
    "You will then call your *function* `do_math` and pass one of the *functions* below, that has been defined for you, as the *function* parameter:\n",
    "```Python\n",
    "def sqrt(num):\n",
    "   return num**0.5\n",
    "   \n",
    "def square(num):\n",
    "   return num**2\n",
    "   \n",
    "```\n",
    "\n",
    "Test your *function* with the inputs `16, sqrt`. Assign the result to *`ans2a`*.\n",
    "\n",
    "Next, test your *function* with the inputs `8, square`. Assign the result to *`ans2b`*."
   ]
  },
  {
   "cell_type": "code",
   "execution_count": 2,
   "metadata": {
    "nbgrader": {
     "grade": false,
     "grade_id": "cell-f0774d95ba6de5ea",
     "locked": false,
     "schema_version": 1,
     "solution": true
    }
   },
   "outputs": [],
   "source": [
    "### GRADED\n",
    "\n",
    "### YOUR SOLUTION HERE\n",
    "\n",
    "def sqrt(num):\n",
    "    return num**0.5\n",
    "\n",
    "def square(num):\n",
    "    return num**2\n",
    "\n",
    "def do_math():\n",
    "    pass\n",
    "\n",
    "ans2a = None\n",
    "ans = None\n",
    "### BEGIN SOLUTION\n",
    "def do_math(num, function):\n",
    "    return function(num)\n",
    "\n",
    "ans2a = do_math(16, sqrt)\n",
    "ans2b = do_math(8, square)\n",
    "### END SOLUTION"
   ]
  },
  {
   "cell_type": "markdown",
   "metadata": {
    "nbgrader": {
     "grade": false,
     "grade_id": "cell-06241fce80da5c81",
     "locked": true,
     "schema_version": 1,
     "solution": false
    }
   },
   "source": [
    "## Question 3\n",
    "\n",
    "*2 points*\n",
    "\n",
    "The *function* `shout_hello()`, defined for you below, is a *function* that transforms the *string* `hello world!` into `HELLO WORLD!`.\n",
    "\n",
    "```Python\n",
    "def shout_hello():\n",
    "    greeting = \"hello world!\"\n",
    "    return greeting.upper()\n",
    "   \n",
    "```\n",
    "\n",
    "\n",
    "Define a Python *wrapper function*, `whisper_hello` which takes the *function* `shout_hello()` and returns the value in lower case: `hello world!`.\n",
    "\n",
    "\n",
    "Test your *function* and assign the result to *`ans2a`*."
   ]
  },
  {
   "cell_type": "code",
   "execution_count": 3,
   "metadata": {
    "nbgrader": {
     "grade": false,
     "grade_id": "cell-bcd1538ef01b9a04",
     "locked": false,
     "schema_version": 1,
     "solution": true
    }
   },
   "outputs": [],
   "source": [
    "### GRADED\n",
    "\n",
    "### YOUR SOLUTION HERE\n",
    "\n",
    "def shout_hello():\n",
    "    greeting = \"hello world!\"\n",
    "    return greeting.upper()\n",
    "\n",
    "ans1 = None\n",
    "\n",
    "def whisper_hello():\n",
    "    pass\n",
    "### BEGIN SOLUTION\n",
    "def whisper_hello(func):\n",
    "    greeting = func\n",
    "    return greeting.lower()\n",
    "\n",
    "ans1a = whisper_hello(shout_hello())\n",
    "### END SOLUTION"
   ]
  },
  {
   "cell_type": "markdown",
   "metadata": {
    "nbgrader": {
     "grade": false,
     "grade_id": "cell-bf279b857b89943a",
     "locked": true,
     "schema_version": 1,
     "solution": false
    }
   },
   "source": [
    "## Question 4\n",
    "\n",
    "*2 points*\n",
    "\n",
    "The *function* `shout_hello()` is a *function* that takes a name and returns a *string* containing the words \"HELLO\" followed by the name passed as a parameter.  \n",
    "```Python\n",
    "def shout_hello(name):\n",
    "    greeting = \"hello \" + name + \"!\"\n",
    "    return greeting.upper()\n",
    "   \n",
    "```\n",
    "\n",
    "\n",
    "Define a Python *function*, `whisper_hello` which will take the *function* `shout_hello(name)` as a parameter and returns the text in lower case.  Example: if you pass `\"John\"` to your `whisper_hello` *function* then it should return `hello john!`.\n",
    "\n",
    "\n",
    "Test your *function* with the inputs `General Grievous`. Assign the result to *`ans4a`*.\n",
    "\n",
    "Next, test your *function* with the inputs `Count Dooku`. Assign the result to *`ans4b`*."
   ]
  },
  {
   "cell_type": "code",
   "execution_count": 4,
   "metadata": {
    "nbgrader": {
     "grade": false,
     "grade_id": "cell-d42bb2c626a267b9",
     "locked": false,
     "schema_version": 1,
     "solution": true
    }
   },
   "outputs": [],
   "source": [
    "### GRADED\n",
    "\n",
    "### YOUR SOLUTION HERE\n",
    "\n",
    "def shout_hello(name):\n",
    "   greeting = \"hello \" + name + \"!\"\n",
    "   return greeting.upper()\n",
    "\n",
    "ans4a = None\n",
    "ans4b = None\n",
    "\n",
    "def whisper_hello():\n",
    "    pass\n",
    "### BEGIN SOLUTION\n",
    "def whisper_hello(func):\n",
    "    greeting = func\n",
    "    return greeting.lower()\n",
    "\n",
    "ans4a = whisper_hello(shout_hello('General Grievous'))\n",
    "ans4b = whisper_hello(shout_hello('Count Dooku'))\n",
    "### END SOLUTION"
   ]
  },
  {
   "cell_type": "markdown",
   "metadata": {
    "nbgrader": {
     "grade": false,
     "grade_id": "cell-998d12ff9506006e",
     "locked": true,
     "schema_version": 1,
     "solution": false
    }
   },
   "source": [
    "## Question 5\n",
    "\n",
    "*2 points*\n",
    "\n",
    "The *function* `add_values` is a *function* that takes a variable number of unnamed arguments and returns their sum:  \n",
    "```Python\n",
    "def add_values(*args):\n",
    "    result = 0\n",
    "    for val in args:\n",
    "        result = result + val\n",
    "    return result\n",
    "   \n",
    "```\n",
    "\n",
    "\n",
    "Define a Python *function*, `my_add_values` which will take the *function* `add_values` as a parameter and returns `Added decoration: results_from_function_add_values`.\n",
    "\n",
    "Example: if you pass `(1,2,3,4,5,6,7,8,9,10)` to your `my_add_values` *function* then, `my_add_values` should return `Added decoration:118`.\n",
    "\n",
    "\n",
    "Test your *function* with the inputs `(1,2,3,4,5,6,7,8,9,10)`. Assign the result to *`ans5a`*.\n",
    "\n",
    "Next, test your *function* with the inputs `(40,60,70,100)`. Assign the result to *`ans5b`*."
   ]
  },
  {
   "cell_type": "code",
   "execution_count": 5,
   "metadata": {
    "nbgrader": {
     "grade": false,
     "grade_id": "cell-8b9c80193a333bfa",
     "locked": false,
     "schema_version": 1,
     "solution": true
    }
   },
   "outputs": [],
   "source": [
    "### GRADED\n",
    "\n",
    "### YOUR SOLUTION HERE\n",
    "\n",
    "def add_values(*args):\n",
    "    result = 0\n",
    "    for val in args:\n",
    "        result = result + val\n",
    "    return result\n",
    "\n",
    "ans5a = None\n",
    "ans5b = None\n",
    "\n",
    "def my_add_values():\n",
    "    pass\n",
    "### BEGIN SOLUTION\n",
    "def my_add_values(func):\n",
    "    result = \"Added decoration:\" + str(func)\n",
    "    return result\n",
    "\n",
    "ans5a = my_add_values(add_values(1,2,3,4,5,6,7,8,9,10))\n",
    "ans5b = my_add_values(add_values(40,60,70,100))\n",
    "### END SOLUTION"
   ]
  },
  {
   "cell_type": "markdown",
   "metadata": {
    "nbgrader": {
     "grade": false,
     "grade_id": "cell-65caded1bbdfd4bf",
     "locked": true,
     "schema_version": 1,
     "solution": false
    }
   },
   "source": [
    "## Question 6\n",
    "\n",
    "*2 points*\n",
    "\n",
    "The *function* `calculate_percentage`, defined for you below, is a *function* that takes a number and a variable number of unnamed arguments.  \n",
    "\n",
    "The variable number of arguments is added up to calculate the total and the number is divided by the total to calculate the percentage. The *function* returns a decimal number between 0 and 1: \n",
    "```Python\n",
    "def calculate_percentage(num, *args):\n",
    "    total = 0\n",
    "    for v in args:\n",
    "        total += v\n",
    "    return v/total\n",
    "   \n",
    "```\n",
    "Define a Python *wrapper function*, `format_percentage` which will take the *function* `calculate_percentage` as a parameter.  The *wrapper function* `format_percentage` will multiply the value returned by the *function* `calculate_percentage` by 100 to produce a percentage (a value between 1 and 100).  \n",
    "\n",
    "\n",
    "Test your *function* with the inputs `num1` = `100` and `args1` = `100,200,100`. Assign the result to *`ans6a`*.\n",
    "\n",
    "Next, test your *function* with the `num2` = `60` and `args2` = `10,10,10,10,10,50`. Assign the result to *`ans6b`*."
   ]
  },
  {
   "cell_type": "code",
   "execution_count": 6,
   "metadata": {
    "nbgrader": {
     "grade": false,
     "grade_id": "cell-b9db01fe1d3c7cc4",
     "locked": false,
     "schema_version": 1,
     "solution": true
    }
   },
   "outputs": [],
   "source": [
    "### GRADED\n",
    "\n",
    "### YOUR SOLUTION HERE\n",
    "\n",
    "def calculate_percentage(num, *args):\n",
    "    total = 0\n",
    "    for num in args:\n",
    "        total += num\n",
    "    return num/total\n",
    "\n",
    "ans6a = None\n",
    "ans6b = None\n",
    "\n",
    "def format_percentage():\n",
    "    pass\n",
    "### BEGIN SOLUTION\n",
    "def format_percentage(func):\n",
    "    result = func * 100\n",
    "    return result\n",
    "\n",
    "args1 = 100,200,100\n",
    "num1 = 100\n",
    "ans6a = format_percentage(calculate_percentage(num1, *args1))\n",
    "args2 = 10,10,10,10,10,50\n",
    "num2 = 60\n",
    "ans6b = format_percentage(calculate_percentage(num2, *args2))\n",
    "### END SOLUTION"
   ]
  },
  {
   "cell_type": "markdown",
   "metadata": {
    "nbgrader": {
     "grade": false,
     "grade_id": "cell-3969c3e357aac10f",
     "locked": true,
     "schema_version": 1,
     "solution": false
    }
   },
   "source": [
    "## Question 7\n",
    "\n",
    "*2 points*\n",
    "\n",
    "The *function* `add_values`, defined for you below, is a *function* that takes a variable number of unnamed arguments, a variable number of named arguments and returns their sum:  \n",
    "```Python\n",
    "def add_values(*args,**kwargs):\n",
    "    result = 0\n",
    "    for v in args:\n",
    "        result = result + v\n",
    "    for k, v in kwargs.items():\n",
    "        result = result + v\n",
    "    return result\n",
    "   \n",
    "```\n",
    "\n",
    "\n",
    "Define a Python *function*, `my_deco` which will take the *function* `add_values` as a parameter.  \n",
    "\n",
    "Inside *`my_deco`* you will define another *function* called *`wrapper`* that returns \"Added decoration - function defined inside function\" concatenated to your results from *`add_values`*.\n",
    "\n",
    "Example: if you pass `args=(1,2,3,4,5,6,7,8,9,10)` and `kwargs={\"arg1\":1, \"arg2\":2, \"arg3\":3}` to your `my_add_values` *function* then it should return `Added decoration - function defined inside function:61`.\n",
    "\n",
    "\n",
    "Test your *function* with the inputs `args1` = `(1,2,3,4,5,6,7,8,9,10)` and `kwargs1` =  `{\"arg1\":1, \"arg2\":2, \"arg3\":3}` . Assign the result to *`ans7a`*.\n",
    "\n",
    "Next, test your *function* with the `args2` = `(40,60,70,100)` and `kwargs2` =  `{\"arg1\":4, \"arg2\":10}`. Assign the result to *`ans7b`*."
   ]
  },
  {
   "cell_type": "code",
   "execution_count": 7,
   "metadata": {
    "nbgrader": {
     "grade": false,
     "grade_id": "cell-7531371d7195fc89",
     "locked": false,
     "schema_version": 1,
     "solution": true
    }
   },
   "outputs": [
    {
     "data": {
      "text/plain": [
       "'Added decoration - function defined inside function: 284'"
      ]
     },
     "execution_count": 7,
     "metadata": {},
     "output_type": "execute_result"
    }
   ],
   "source": [
    "### GRADED\n",
    "\n",
    "### YOUR SOLUTION HERE\n",
    "\n",
    "def add_values(*args,**kwargs):\n",
    "    result = 0\n",
    "    for v in args:\n",
    "        result += v\n",
    "    for k, v in kwargs.items():\n",
    "        result += v\n",
    "    return result\n",
    "\n",
    "\n",
    "ans7a = None\n",
    "ans7b = None\n",
    "\n",
    "def my_deco():\n",
    "    def wrapper():\n",
    "        pass\n",
    "    pass\n",
    "\n",
    "add = None\n",
    "\n",
    "### BEGIN SOLUTION\n",
    "def my_deco(func):\n",
    "    def wrapper(*args, **kwargs):\n",
    "        result = func(*args, **kwargs)\n",
    "        return f'Added decoration - function defined inside function: {result}'\n",
    "    return wrapper\n",
    "\n",
    "\n",
    "add = my_deco(add_values)\n",
    "\n",
    "args1 = (1,2,3,4,5,6,7,8,9,10)\n",
    "kwargs1 = {\"arg1\":1, \"arg2\":2, \"arg3\":3}\n",
    "ans7a = add(*args1, **kwargs1)\n",
    "args2 = (40,60,70,100)\n",
    "kwargs2 = {\"arg1\":4, \"arg2\":10}\n",
    "ans7b = add(*args2, **kwargs2)\n",
    "\n",
    "### END SOLUTION\n",
    "ans7b"
   ]
  },
  {
   "cell_type": "markdown",
   "metadata": {
    "nbgrader": {
     "grade": false,
     "grade_id": "cell-ede5cdf4b5482a83",
     "locked": true,
     "schema_version": 1,
     "solution": false
    }
   },
   "source": [
    "## Question 8\n",
    "\n",
    "*2 points*\n",
    "\n",
    "The *function* `add_values`, defined for you below, is a *function* that takes a variable number of unnamed arguments and a variable number of named arguments and returns their sum:  \n",
    "```Python\n",
    "def add_values(*args,**kwargs):\n",
    "    result = 0\n",
    "    for v in args:\n",
    "        result = result + v\n",
    "    for k, v in kwargs.items():\n",
    "        result = result + v\n",
    "    return result\n",
    "   \n",
    "```\n",
    "\n",
    "\n",
    "Define a Python *function*, `my_new_add`, which will take the *function* `add_values` as a parameter.  Inside `my_new_add` you will define another *function* called `wrapper` that looks for a named parameter `Federal`. If it exists then it removes it from the sum. \n",
    "\n",
    "Example: If you pass `args` = `(1000,35000,5000)` and `kwargs` = `{\"Housing\":5000, \"Allowances\":2000, \"Federal\":3500}\"`, then the *function* should return `48000`.\n",
    "\n",
    "\n",
    "Test your *function* with the inputs `args1` = `(1000,35000,5000)` and `kwargs1` =  `{\"Housing\":5000, \"Allowances\":2000, \"Federal\":3500}`. Assign the result to *`ans8a`*.\n",
    "\n",
    "Next, test your *function* with the `args2` = `(4000,6000,7000,1000)` and `kwargs2` =  `{\"Housing\":100}`. Assign the result to *`ans8b`*."
   ]
  },
  {
   "cell_type": "code",
   "execution_count": 8,
   "metadata": {
    "nbgrader": {
     "grade": false,
     "grade_id": "cell-958206c72de16e38",
     "locked": false,
     "schema_version": 1,
     "solution": true
    }
   },
   "outputs": [],
   "source": [
    "### GRADED\n",
    "\n",
    "### YOUR SOLUTION HERE\n",
    "\n",
    "def add_values(*args,**kwargs):\n",
    "    result = 0\n",
    "    for v in args:\n",
    "        result += v\n",
    "    for k, v in kwargs.items():\n",
    "        result += v\n",
    "    return result\n",
    "\n",
    "ans8a = None\n",
    "ans8b = None\n",
    "\n",
    "def my_new_add():\n",
    "    def wrapper():\n",
    "        pass\n",
    "    pass\n",
    "\n",
    "add = None\n",
    "\n",
    "### BEGIN SOLUTION\n",
    "def my_new_add(func):\n",
    "    def wrapper(*args, **kwargs):\n",
    "        if \"Federal\" in kwargs.keys():\n",
    "            kwargs.pop(\"Federal\")\n",
    "        result = func(*args, **kwargs)\n",
    "        return result\n",
    "    return wrapper\n",
    "\n",
    "\n",
    "add = my_new_add(add_values)\n",
    "\n",
    "args1 = (1000,35000,5000)\n",
    "kwargs1 = {\"Housing\":5000, \"Allowances\":2000, \"Federal\":3500}\n",
    "ans8a = add(*args1, **kwargs1)\n",
    "args2 = (4000,6000,7000,1000)\n",
    "kwargs2 = {\"Housing\":100}\n",
    "ans8b = add(*args2, **kwargs2)\n",
    "\n",
    "### END SOLUTION"
   ]
  },
  {
   "cell_type": "markdown",
   "metadata": {
    "nbgrader": {
     "grade": false,
     "grade_id": "cell-9635d8d676fcd12c",
     "locked": true,
     "schema_version": 1,
     "solution": false
    }
   },
   "source": [
    "## Question 9\n",
    "\n",
    "*2 points*\n",
    "\n",
    "You learned that you can simplify the use of *decorators* by using the `@` symbol. The example below shows the use of the `@` symbol where the *function* `name` is *decorated* with the *wrapper* `hello` to output `Hello John!`.  \n",
    "```Python\n",
    "def hello(func):\n",
    "    def inner(n):\n",
    "        return \"Hello \" + func(n) + '!'\n",
    "    \n",
    "    return inner\n",
    "\n",
    "@hello                                                                                                      \n",
    "def name(x):                                                                                                 \n",
    "    return x \n",
    "    \n",
    "name(\"John\")\n",
    "\n",
    ">>'Hello John!'\n",
    "   \n",
    "```\n",
    "\n",
    "Given the *wrapper* called `verbose_sum`:\n",
    "\n",
    "```Python\n",
    "def verbose_sum(func):\n",
    "    def inner(a,b):\n",
    "        return str(a) + \" + \" + str(b) + \" = \" + str(func(a,b))\n",
    "    \n",
    "    return inner\n",
    "```\n",
    "\n",
    "create a *function*, `sum`, that takes two arguments and adds them. *Decorate* your *function* with the `verbose_sum` *wrapper* using the `@` symbol.\n",
    "\n",
    "\n",
    "Test your *function* with the inputs `(4,10)`. Assign the result to *`ans9a`*.\n",
    "\n",
    "Next, test your *function* with the inputs `(200,500)`. Assign the result to *`ans9b`*."
   ]
  },
  {
   "cell_type": "code",
   "execution_count": 9,
   "metadata": {
    "nbgrader": {
     "grade": false,
     "grade_id": "cell-859d55b52e88a560",
     "locked": false,
     "schema_version": 1,
     "solution": true
    }
   },
   "outputs": [],
   "source": [
    "### GRADED\n",
    "\n",
    "### YOUR SOLUTION HERE\n",
    "\n",
    "def verbose_sum(func):\n",
    "    def inner(a,b):\n",
    "        return str(a) + \" + \" + str(b) + \" = \" + str(func(a,b))\n",
    "    return inner\n",
    "\n",
    "@verbose_sum\n",
    "def sum():\n",
    "    pass\n",
    "ans9a = None\n",
    "ans9b = None\n",
    "\n",
    "\n",
    "### BEGIN SOLUTION\n",
    "@verbose_sum\n",
    "def sum(a,b):\n",
    "    return a + b\n",
    "\n",
    "ans9a = sum(4,10)\n",
    "ans9b = sum(200,500)\n",
    "\n",
    "### END SOLUTION"
   ]
  },
  {
   "cell_type": "markdown",
   "metadata": {
    "nbgrader": {
     "grade": false,
     "grade_id": "cell-3ed58742afea0fb4",
     "locked": true,
     "schema_version": 1,
     "solution": false
    }
   },
   "source": [
    "## Question 10\n",
    "\n",
    "*2 points*\n",
    "\n",
    "The *function* below adds all the named and unnamed variables provided and returns the results:  \n",
    "```Python\n",
    "def add_values(*args,**kwargs):\n",
    "    result = 0\n",
    "    for v in args:\n",
    "        result += v\n",
    "    for k, v in kwargs.items():\n",
    "        result += v\n",
    "    return result\n",
    "   \n",
    "```\n",
    "\n",
    "Create a *wrapper* called `my_add_values` that outputs the *string* `Added decoration: sum_of_all_values`.\n",
    "\n",
    "Example: If you pass `args` equal to `(1,2,3,4,5,6,7,8,9,10)` and `kwargs` equal to `{\"arg1\":1, \"arg2\":2, \"arg3\":3}` to your `my_add_values` *function*, then it should return `Added decoration: 61`.\n",
    "\n",
    "*Decorate* the *function* `add_values` using the `@` *operator*.\n",
    "\n",
    "\n",
    "Test your *decorated function* `add_values` with the inputs `args1` equal to `(1,2,3,4,5,6,7,8,9,10)` and `kwargs1` equal to `{\"arg1\":1, \"arg2\":2, \"arg3\":3}`. Assign the result to *`ans10a`*.\n",
    "\n",
    "Next, test your *decorated* *function* `add_values` with the inputs `args2` equal to `(40,60,70,100)` and `kwargs2` equal to `{\"arg1\":4, \"arg2\":10}`. Assign the result to *`ans10b`*."
   ]
  },
  {
   "cell_type": "code",
   "execution_count": 10,
   "metadata": {
    "nbgrader": {
     "grade": false,
     "grade_id": "cell-11fd20e075c832c1",
     "locked": false,
     "schema_version": 1,
     "solution": true
    }
   },
   "outputs": [],
   "source": [
    "### GRADED\n",
    "\n",
    "### YOUR SOLUTION HERE\n",
    "\n",
    "\n",
    "def my_add_values():\n",
    "    def wrapper():\n",
    "        pass\n",
    "    pass\n",
    "\n",
    "def add_values(*args,**kwargs):\n",
    "    result = 0\n",
    "    for v in args:\n",
    "        result += v\n",
    "    for k, v in kwargs.items():\n",
    "        result += v\n",
    "    return result\n",
    "\n",
    "ans10a = None\n",
    "ans10b = None\n",
    "\n",
    "### BEGIN SOLUTION\n",
    "def my_add_values(func):\n",
    "    def wrapper(*args, **kwargs):\n",
    "        result = func(*args, **kwargs)\n",
    "        return f'Added decoration: {result}'\n",
    "    return wrapper\n",
    "\n",
    "\n",
    "@my_add_values\n",
    "def add_values(*args,**kwargs):\n",
    "    result = 0\n",
    "    for v in args:\n",
    "        result += v\n",
    "    for k, v in kwargs.items():\n",
    "        result += v\n",
    "    return result\n",
    "\n",
    "args1 = (1,2,3,4,5,6,7,8,9,10)\n",
    "kwargs1 = {\"arg1\":1, \"arg2\":2, \"arg3\":3}\n",
    "ans10a = add_values(*args1, **kwargs1)\n",
    "args2 = (40,60,70,100)\n",
    "kwargs2 = {\"arg1\":4, \"arg2\":10}\n",
    "ans10b = add_values(*args2, **kwargs2)\n",
    "\n",
    "### END SOLUTION"
   ]
  }
 ],
 "metadata": {
  "celltoolbar": "Create Assignment",
  "kernelspec": {
   "display_name": "Python 3 (ipykernel)",
   "language": "python",
   "name": "python3"
  },
  "language_info": {
   "codemirror_mode": {
    "name": "ipython",
    "version": 3
   },
   "file_extension": ".py",
   "mimetype": "text/x-python",
   "name": "python",
   "nbconvert_exporter": "python",
   "pygments_lexer": "ipython3",
   "version": "3.9.9"
  }
 },
 "nbformat": 4,
 "nbformat_minor": 4
}
